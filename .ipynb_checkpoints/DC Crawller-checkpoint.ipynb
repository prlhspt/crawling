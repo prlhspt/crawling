{
 "cells": [
  {
   "cell_type": "code",
   "execution_count": 10,
   "metadata": {
    "ExecuteTime": {
     "end_time": "2020-06-11T08:51:11.677266Z",
     "start_time": "2020-06-11T08:51:11.669258Z"
    },
    "tags": [
     "req"
    ]
   },
   "outputs": [],
   "source": [
    "import requests\n",
    "from bs4 import BeautifulSoup\n",
    "import telegram\n",
    "import time\n",
    "\n",
    "TELEGRAM_TOKEN = '1101178096:AAHBFH15tQyTzhFoaIOOQqmcaIS4zNjmaZc'\n",
    "\n",
    "bot = telegram.Bot(token=TELEGRAM_TOKEN)\n",
    "\n",
    "LOLALARMCHANNEL = -1001159561160\n",
    "\n",
    "\n",
    "\n",
    "hdr = {'Accept-Language': 'ko_KR,en;q=0.8', 'User-Agent': (\n",
    "    'Mozilla/5.0 (Linux; Android 6.0; Nexus 5 Build/MRA58N) AppleWebKit/537.36 (KHTML, like Gecko) Chrome/78.0.3904.70 Mobile Safari/537.36')}\n",
    "\n",
    "req = requests.get('https://m.dcinside.com/board/leagueoflegends3?recommend=1', headers=hdr)\n",
    "html = req.text\n",
    "soup = BeautifulSoup(html, 'html.parser')\n",
    "newPost = soup.find(\"div\", {\"class\" : \"gall-detail-lnktb\"})\n",
    "newPostTitle = newPost.find(\"span\", {\"class\" : \"detail-txt\"}).text"
   ]
  },
  {
   "cell_type": "code",
   "execution_count": 11,
   "metadata": {},
   "outputs": [
    {
     "name": "stdout",
     "output_type": "stream",
     "text": [
      "LOL_ done\n",
      "LOL_ done\n"
     ]
    },
    {
     "ename": "KeyboardInterrupt",
     "evalue": "",
     "output_type": "error",
     "traceback": [
      "\u001b[0;31m---------------------------------------------------------------------------\u001b[0m",
      "\u001b[0;31mKeyboardInterrupt\u001b[0m                         Traceback (most recent call last)",
      "\u001b[0;32m<ipython-input-11-ab99594a9203>\u001b[0m in \u001b[0;36m<module>\u001b[0;34m\u001b[0m\n\u001b[1;32m     27\u001b[0m         \u001b[0msendDcinsideLol\u001b[0m\u001b[0;34m(\u001b[0m\u001b[0;34m)\u001b[0m\u001b[0;34m\u001b[0m\u001b[0;34m\u001b[0m\u001b[0m\n\u001b[1;32m     28\u001b[0m         \u001b[0mprint\u001b[0m\u001b[0;34m(\u001b[0m\u001b[0;34m'LOL_ done'\u001b[0m\u001b[0;34m)\u001b[0m\u001b[0;34m\u001b[0m\u001b[0;34m\u001b[0m\u001b[0m\n\u001b[0;32m---> 29\u001b[0;31m         \u001b[0mtime\u001b[0m\u001b[0;34m.\u001b[0m\u001b[0msleep\u001b[0m\u001b[0;34m(\u001b[0m\u001b[0;36m80\u001b[0m\u001b[0;34m)\u001b[0m\u001b[0;34m\u001b[0m\u001b[0;34m\u001b[0m\u001b[0m\n\u001b[0m",
      "\u001b[0;31mKeyboardInterrupt\u001b[0m: "
     ]
    }
   ],
   "source": [
    "def sendDcinsideLol():\n",
    "\n",
    "    try:\n",
    "        with open(\"lol_titles.txt\", \"r\", encoding=\"utf-8\") as f:\n",
    "            latest_title_lol = f.readline()\n",
    "        req = requests.get('https://m.dcinside.com/board/leagueoflegends3?recommend=1', headers=hdr)\n",
    "        html = req.text\n",
    "        soup = BeautifulSoup(html, 'html.parser')\n",
    "        newPost = soup.find(\"div\", {\"class\" : \"gall-detail-lnktb\"})\n",
    "        newPostTitle = newPost.find(\"span\", {\"class\" : \"detail-txt\"}).text\n",
    "\n",
    "        if latest_title_lol != newPostTitle:\n",
    "\n",
    "            with open(\"lol_titles.txt\", \"w\", encoding=\"utf-8\") as f:\n",
    "                f.write(newPostTitle)\n",
    "            newPostUrl = newPost.find(\"a\").attrs['href']\n",
    "            newPostTitle = newPostTitle.replace('[', '{').replace(']', '}')\n",
    "\n",
    "            message = '<롤갤 개념글 업데이트>\\n' + f'[%s](%s)\\n'%(newPostTitle, newPostUrl) \n",
    "            bot.sendMessage(DCALARMCHANNEL, message, parse_mode = 'MARKDOWN')\n",
    "    except requests.exceptions.ConnectionError:\n",
    "        bot.sendMessage(DCALARMCHANNEL, \"requests.exceptions.ConnectionError Occured\")\n",
    "        return\n",
    "    \n",
    "if __name__ == '__main__':\n",
    "    while True:\n",
    "        sendDcinsideLol()\n",
    "        print('LOL_ done')     \n",
    "        time.sleep(80)"
   ]
  },
  {
   "cell_type": "code",
   "execution_count": 18,
   "metadata": {},
   "outputs": [
    {
     "ename": "NameError",
     "evalue": "name 'LOLARMCHANNEL' is not defined",
     "output_type": "error",
     "traceback": [
      "\u001b[0;31m---------------------------------------------------------------------------\u001b[0m",
      "\u001b[0;31mNameError\u001b[0m                                 Traceback (most recent call last)",
      "\u001b[0;32m<ipython-input-18-b638a4437371>\u001b[0m in \u001b[0;36m<module>\u001b[0;34m\u001b[0m\n\u001b[1;32m     16\u001b[0m \u001b[0;34m\u001b[0m\u001b[0m\n\u001b[1;32m     17\u001b[0m             \u001b[0mmessage\u001b[0m \u001b[0;34m=\u001b[0m \u001b[0;34m'<롤갤 개념글 업데이트>\\n'\u001b[0m \u001b[0;34m+\u001b[0m \u001b[0;34mf'[%s](%s)\\n'\u001b[0m\u001b[0;34m%\u001b[0m\u001b[0;34m(\u001b[0m\u001b[0mnewPostTitle\u001b[0m\u001b[0;34m,\u001b[0m \u001b[0mnewPostUrl\u001b[0m\u001b[0;34m)\u001b[0m\u001b[0;34m\u001b[0m\u001b[0;34m\u001b[0m\u001b[0m\n\u001b[0;32m---> 18\u001b[0;31m             \u001b[0mbot\u001b[0m\u001b[0;34m.\u001b[0m\u001b[0msendMessage\u001b[0m\u001b[0;34m(\u001b[0m\u001b[0mLOLARMCHANNEL\u001b[0m\u001b[0;34m,\u001b[0m \u001b[0mmessage\u001b[0m\u001b[0;34m,\u001b[0m \u001b[0mparse_mode\u001b[0m \u001b[0;34m=\u001b[0m \u001b[0;34m'MARKDOWN'\u001b[0m\u001b[0;34m)\u001b[0m\u001b[0;34m\u001b[0m\u001b[0;34m\u001b[0m\u001b[0m\n\u001b[0m\u001b[1;32m     19\u001b[0m \u001b[0;32mexcept\u001b[0m \u001b[0mrequests\u001b[0m\u001b[0;34m.\u001b[0m\u001b[0mexceptions\u001b[0m\u001b[0;34m.\u001b[0m\u001b[0mConnectionError\u001b[0m\u001b[0;34m:\u001b[0m\u001b[0;34m\u001b[0m\u001b[0;34m\u001b[0m\u001b[0m\n\u001b[1;32m     20\u001b[0m     \u001b[0mbot\u001b[0m\u001b[0;34m.\u001b[0m\u001b[0msendMessage\u001b[0m\u001b[0;34m(\u001b[0m\u001b[0mLOLARMCHANNEL\u001b[0m\u001b[0;34m,\u001b[0m \u001b[0;34m\"requests.exceptions.ConnectionError Occured\"\u001b[0m\u001b[0;34m)\u001b[0m\u001b[0;34m\u001b[0m\u001b[0;34m\u001b[0m\u001b[0m\n",
      "\u001b[0;31mNameError\u001b[0m: name 'LOLARMCHANNEL' is not defined"
     ]
    }
   ],
   "source": [
    "try:\n",
    "        with open(\"lol_titles.txt\", \"r\", encoding=\"utf-8\") as f:\n",
    "            latest_title_lol = f.readline()\n",
    "        req = requests.get('https://m.dcinside.com/board/leagueoflegends3?recommend=1', headers=hdr)\n",
    "        html = req.text\n",
    "        soup = BeautifulSoup(html, 'html.parser')\n",
    "        newPost = soup.find(\"div\", {\"class\" : \"gall-detail-lnktb\"})\n",
    "        newPostTitle = newPost.find(\"span\", {\"class\" : \"detail-txt\"}).text\n",
    "\n",
    "        if latest_title_lol != newPostTitle:\n",
    "\n",
    "            with open(\"lol_titles.txt\", \"w\", encoding=\"utf-8\") as f:\n",
    "                f.write(newPostTitle)\n",
    "            newPostUrl = newPost.find(\"a\").attrs['href']\n",
    "            newPostTitle = newPostTitle.replace('[', '{').replace(']', '}')\n",
    "\n",
    "            message = '<롤갤 개념글 업데이트>\\n' + f'[%s](%s)\\n'%(newPostTitle, newPostUrl) \n",
    "            bot.sendMessage(LOLALARMCHANNEL, message, parse_mode = 'MARKDOWN')\n",
    "except requests.exceptions.ConnectionError:\n",
    "    bot.sendMessage(LOLALARMCHANNEL, \"requests.exceptions.ConnectionError Occured\")"
   ]
  },
  {
   "cell_type": "code",
   "execution_count": null,
   "metadata": {},
   "outputs": [],
   "source": []
  }
 ],
 "metadata": {
  "kernelspec": {
   "display_name": "Python 3",
   "language": "python",
   "name": "python3"
  },
  "language_info": {
   "codemirror_mode": {
    "name": "ipython",
    "version": 3
   },
   "file_extension": ".py",
   "mimetype": "text/x-python",
   "name": "python",
   "nbconvert_exporter": "python",
   "pygments_lexer": "ipython3",
   "version": "3.6.10"
  },
  "toc": {
   "base_numbering": 1,
   "nav_menu": {},
   "number_sections": true,
   "sideBar": true,
   "skip_h1_title": false,
   "title_cell": "Table of Contents",
   "title_sidebar": "Contents",
   "toc_cell": false,
   "toc_position": {},
   "toc_section_display": true,
   "toc_window_display": false
  }
 },
 "nbformat": 4,
 "nbformat_minor": 4
}
