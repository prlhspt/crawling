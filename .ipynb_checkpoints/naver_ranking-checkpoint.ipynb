{
 "cells": [
  {
   "cell_type": "code",
   "execution_count": 56,
   "metadata": {},
   "outputs": [],
   "source": [
    "import requests\n",
    "from bs4 import BeautifulSoup\n",
    "import telegram\n",
    "import datetime\n",
    "import time"
   ]
  },
  {
   "cell_type": "code",
   "execution_count": 44,
   "metadata": {},
   "outputs": [],
   "source": [
    "headers = {'User-Agent': 'Mozilla/5.0 (X11; Linux x86_64) AppleWebKit/537.36 (KHTML, like Gecko) Chrome/83.0.4103.97 Safari/537.36'}\n",
    "\n",
    "url = 'https://datalab.naver.com/keyword/realtimeList.naver?age=20s#none#'\n",
    "res = requests.get(url, headers = headers)\n",
    "soup = BeautifulSoup(res.content, 'html.parser')\n",
    "data = soup.findAll('span','item_title')"
   ]
  },
  {
   "cell_type": "code",
   "execution_count": 45,
   "metadata": {},
   "outputs": [],
   "source": [
    "TELEGRAM_TOKEN = '1101178096:AAHBFH15tQyTzhFoaIOOQqmcaIS4zNjmaZc'\n",
    "\n",
    "bot = telegram.Bot(token=TELEGRAM_TOKEN)\n",
    "\n",
    "channel = -1001159561160"
   ]
  },
  {
   "cell_type": "code",
   "execution_count": 47,
   "metadata": {},
   "outputs": [
    {
     "data": {
      "text/plain": [
       "[<span class=\"item_title\">테스</span>,\n",
       " <span class=\"item_title\">현우</span>,\n",
       " <span class=\"item_title\">임슬옹</span>,\n",
       " <span class=\"item_title\">체리비</span>,\n",
       " <span class=\"item_title\">웰컴투비디오</span>,\n",
       " <span class=\"item_title\">여자 사람 친구</span>,\n",
       " <span class=\"item_title\">케이</span>,\n",
       " <span class=\"item_title\">손정우</span>,\n",
       " <span class=\"item_title\">현우 나이</span>,\n",
       " <span class=\"item_title\">박장데소</span>,\n",
       " <span class=\"item_title\">더넌</span>,\n",
       " <span class=\"item_title\">성시경 집</span>,\n",
       " <span class=\"item_title\">다크웹 손정우</span>,\n",
       " <span class=\"item_title\">백지영</span>,\n",
       " <span class=\"item_title\">백지영 정석원</span>,\n",
       " <span class=\"item_title\">끝까지 간다</span>,\n",
       " <span class=\"item_title\">서스펜디드</span>,\n",
       " <span class=\"item_title\">윤영석</span>,\n",
       " <span class=\"item_title\">성시경 나이</span>,\n",
       " <span class=\"item_title\">바람이 부네요</span>]"
      ]
     },
     "execution_count": 47,
     "metadata": {},
     "output_type": "execute_result"
    }
   ],
   "source": [
    "data"
   ]
  },
  {
   "cell_type": "code",
   "execution_count": 58,
   "metadata": {},
   "outputs": [],
   "source": [
    "now = datetime.datetime.now()\n",
    "now.minute\n",
    "time.sleep(5)"
   ]
  },
  {
   "cell_type": "code",
   "execution_count": 43,
   "metadata": {},
   "outputs": [
    {
     "data": {
      "text/plain": [
       "<telegram.message.Message at 0x7f0c091cd160>"
      ]
     },
     "execution_count": 43,
     "metadata": {},
     "output_type": "execute_result"
    }
   ],
   "source": [
    "now = datetime.datetime.now()\n",
    "\n",
    "searchword_list = []\n",
    "\n",
    "for item in data:\n",
    "    searchword_list.append(item.get_text())\n",
    "\n",
    "message = '<' + str((now.hour+9)%12) +'시 네이버 급상승 검색어 1~10>\\n'\n",
    "i = 1\n",
    "for searchword in searchword_list[:10]:\n",
    "    message += f'[%d. %s](%s)\\n'%(i,searchword, ('https://search.naver.com/search.naver?query=' + searchword.replace(' ', '')))     \n",
    "    i += 1\n",
    "\n",
    "bot.sendMessage(channel, message, parse_mode = 'MARKDOWN')"
   ]
  },
  {
   "cell_type": "code",
   "execution_count": null,
   "metadata": {},
   "outputs": [],
   "source": [
    "if __name__ == '__main__':\n",
    "    bot.sendMessage(channel, \"naver_ver3 started\")\n",
    "\n",
    "    now = datetime.datetime.now()\n",
    "    now_minute =  now.minute\n",
    "    while True:\n",
    "        now = datetime.datetime.now()\n",
    "        if now_minute != now.minute:\n",
    "            nowHour = now.hour\n",
    "            time.sleep(1800)\n",
    "            if now.Hour >= 19 and now.Hour < 22:      #한국시간 오전 4시 ~ 8시까지는 검색어 알림 받지않음\n",
    "                time.sleep(1800)\n",
    "                continue\n",
    "            naverRealtimeList()"
   ]
  },
  {
   "cell_type": "code",
   "execution_count": 62,
   "metadata": {},
   "outputs": [
    {
     "ename": "KeyboardInterrupt",
     "evalue": "",
     "output_type": "error",
     "traceback": [
      "\u001b[0;31m---------------------------------------------------------------------------\u001b[0m",
      "\u001b[0;31mKeyboardInterrupt\u001b[0m                         Traceback (most recent call last)",
      "\u001b[0;32m<ipython-input-62-292e711600e7>\u001b[0m in \u001b[0;36m<module>\u001b[0;34m\u001b[0m\n\u001b[1;32m     49\u001b[0m         \u001b[0;32mif\u001b[0m \u001b[0mnow_minute\u001b[0m \u001b[0;34m!=\u001b[0m \u001b[0mnow\u001b[0m\u001b[0;34m.\u001b[0m\u001b[0mminute\u001b[0m\u001b[0;34m:\u001b[0m\u001b[0;34m\u001b[0m\u001b[0;34m\u001b[0m\u001b[0m\n\u001b[1;32m     50\u001b[0m             \u001b[0mnowHour\u001b[0m \u001b[0;34m=\u001b[0m \u001b[0mnow\u001b[0m\u001b[0;34m.\u001b[0m\u001b[0mhour\u001b[0m\u001b[0;34m\u001b[0m\u001b[0;34m\u001b[0m\u001b[0m\n\u001b[0;32m---> 51\u001b[0;31m             \u001b[0mtime\u001b[0m\u001b[0;34m.\u001b[0m\u001b[0msleep\u001b[0m\u001b[0;34m(\u001b[0m\u001b[0;36m1800\u001b[0m\u001b[0;34m)\u001b[0m\u001b[0;34m\u001b[0m\u001b[0;34m\u001b[0m\u001b[0m\n\u001b[0m\u001b[1;32m     52\u001b[0m             \u001b[0;32mif\u001b[0m \u001b[0mnow\u001b[0m\u001b[0;34m.\u001b[0m\u001b[0mHour\u001b[0m \u001b[0;34m>=\u001b[0m \u001b[0;36m19\u001b[0m \u001b[0;32mand\u001b[0m \u001b[0mnow\u001b[0m\u001b[0;34m.\u001b[0m\u001b[0mHour\u001b[0m \u001b[0;34m<\u001b[0m \u001b[0;36m22\u001b[0m\u001b[0;34m:\u001b[0m      \u001b[0;31m#한국시간 오전 4시 ~ 8시까지는 검색어 알림 받지않음\u001b[0m\u001b[0;34m\u001b[0m\u001b[0;34m\u001b[0m\u001b[0m\n\u001b[1;32m     53\u001b[0m                 \u001b[0mtime\u001b[0m\u001b[0;34m.\u001b[0m\u001b[0msleep\u001b[0m\u001b[0;34m(\u001b[0m\u001b[0;36m1800\u001b[0m\u001b[0;34m)\u001b[0m\u001b[0;34m\u001b[0m\u001b[0;34m\u001b[0m\u001b[0m\n",
      "\u001b[0;31mKeyboardInterrupt\u001b[0m: "
     ]
    }
   ],
   "source": [
    "import requests\n",
    "from bs4 import BeautifulSoup\n",
    "import telegram\n",
    "import datetime\n",
    "\n",
    "headers = {'User-Agent': 'Mozilla/5.0 (X11; Linux x86_64) AppleWebKit/537.36 (KHTML, like Gecko) Chrome/83.0.4103.97 Safari/537.36'}\n",
    "\n",
    "url = 'https://datalab.naver.com/keyword/realtimeList.naver?age=20s#none#'\n",
    "res = requests.get(url, headers = headers)\n",
    "soup = BeautifulSoup(res.content, 'html.parser')\n",
    "data = soup.findAll('span','item_title')\n",
    "\n",
    "TELEGRAM_TOKEN = '1101178096:AAHBFH15tQyTzhFoaIOOQqmcaIS4zNjmaZc'\n",
    "\n",
    "bot = telegram.Bot(token=TELEGRAM_TOKEN)\n",
    "\n",
    "channel = -1001159561160\n",
    "\n",
    "def real_time_list():\n",
    "    \n",
    "    try:\n",
    "        now = datetime.datetime.now()\n",
    "\n",
    "        searchword_list = []\n",
    "\n",
    "        for item in data:\n",
    "            searchword_list.append(item.get_text())\n",
    "\n",
    "        message = '<' + str((now.hour+9)%12) +'시 네이버 급상승 검색어 1~10>\\n'\n",
    "        i = 1\n",
    "        for searchword in searchword_list[:10]:\n",
    "            message += f'[%d. %s](%s)\\n'%(i,searchword, ('https://search.naver.com/search.naver?query=' + searchword.replace(' ', '')))     \n",
    "            i += 1\n",
    "\n",
    "        bot.sendMessage(channel, message, parse_mode = 'MARKDOWN')\n",
    "        \n",
    "    except requests.exceptions.ConnectionError:\n",
    "        bot.sendMessage(channel, \"requests.exceptions.ConnectionError Occured\")\n",
    "        return\n",
    "    \n",
    "if __name__ == '__main__':\n",
    "    bot.sendMessage(channel, \"naver_ver3 started\")\n",
    "\n",
    "    now = datetime.datetime.now()\n",
    "    now_minute =  now.minute\n",
    "    real_time_list()\n",
    "    while True:\n",
    "        now = datetime.datetime.now()\n",
    "        if now_minute != now.minute:\n",
    "            nowHour = now.hour\n",
    "            time.sleep(1800)\n",
    "            if now.hour >= 19 and now.hour < 22:      #한국시간 오전 4시 ~ 8시까지는 검색어 알림 받지않음\n",
    "                time.sleep(1800)\n",
    "                continue\n",
    "            real_time_list()"
   ]
  },
  {
   "cell_type": "code",
   "execution_count": 64,
   "metadata": {},
   "outputs": [
    {
     "data": {
      "text/plain": [
       "0"
      ]
     },
     "execution_count": 64,
     "metadata": {},
     "output_type": "execute_result"
    }
   ],
   "source": [
    "now.hour"
   ]
  }
 ],
 "metadata": {
  "kernelspec": {
   "display_name": "Python 3",
   "language": "python",
   "name": "python3"
  },
  "language_info": {
   "codemirror_mode": {
    "name": "ipython",
    "version": 3
   },
   "file_extension": ".py",
   "mimetype": "text/x-python",
   "name": "python",
   "nbconvert_exporter": "python",
   "pygments_lexer": "ipython3",
   "version": "3.6.10"
  }
 },
 "nbformat": 4,
 "nbformat_minor": 4
}
