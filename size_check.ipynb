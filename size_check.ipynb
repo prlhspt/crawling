{
 "cells": [
  {
   "cell_type": "code",
   "execution_count": 12,
   "metadata": {},
   "outputs": [],
   "source": [
    "from bs4 import BeautifulSoup"
   ]
  },
  {
   "cell_type": "code",
   "execution_count": 43,
   "metadata": {},
   "outputs": [],
   "source": [
    "# 자동화 테스트를 위해 셀리니움을 불러옵니다.\n",
    "from selenium import webdriver\n",
    "import time\n",
    "\n",
    "driver = webdriver.Chrome(\"C:/path/chromedriver.exe\")\n",
    "\n",
    "# 접속할 url\n",
    "url = \"https://ggdata.kr/dataset/\"\n",
    "driver.get(url)"
   ]
  },
  {
   "cell_type": "code",
   "execution_count": 55,
   "metadata": {},
   "outputs": [],
   "source": [
    "import csv\n",
    "import os\n",
    "\n",
    "f = open(\"size_list.txt\", \"w\", newline='', encoding='utf-8')\n",
    "\n",
    "with open(\"product_id.csv\", encoding='utf-8-sig') as csv_file:\n",
    "    c_reader = csv.reader(csv_file)\n",
    "    for url in c_reader:\n",
    "        driver.get('https://ggdata.kr/dataset/7f00747b-c93c-4f08-85f1-48409ca511ca#/dataset/' + url[0])\n",
    "        html = driver.page_source\n",
    "        soup = BeautifulSoup(html, 'html.parser')\n",
    "        size = soup.select('#root > div.ds-main-wrap > div > div.wrap-dataset-view > div.dataset-info > div.dataset-data > ul > li:nth-child(3) > span')\n",
    "        date = soup.select('#root > div.ds-main-wrap > div > div.wrap-dataset-view > div.dataset-info > div.dataset-meta > table > tbody > tr:nth-child(2) > td:nth-child(4) > small')\n",
    "        for n in size:\n",
    "            f.write(n.text.strip()+',')\n",
    "        for n in date:\n",
    "            f.write(n.text.strip()+'\\n')\n",
    "f.close()"
   ]
  }
 ],
 "metadata": {
  "kernelspec": {
   "display_name": "Python 3",
   "language": "python",
   "name": "python3"
  },
  "language_info": {
   "codemirror_mode": {
    "name": "ipython",
    "version": 3
   },
   "file_extension": ".py",
   "mimetype": "text/x-python",
   "name": "python",
   "nbconvert_exporter": "python",
   "pygments_lexer": "ipython3",
   "version": "3.8.5"
  }
 },
 "nbformat": 4,
 "nbformat_minor": 4
}
