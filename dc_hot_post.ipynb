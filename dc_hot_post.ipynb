{
 "cells": [
  {
   "cell_type": "code",
   "execution_count": 1,
   "metadata": {},
   "outputs": [],
   "source": [
    "from bs4 import BeautifulSoup\n",
    "import telegram\n",
    "import requests\n",
    "import time\n",
    "import os\n",
    "from datetime import datetime"
   ]
  },
  {
   "cell_type": "code",
   "execution_count": 31,
   "metadata": {},
   "outputs": [],
   "source": [
    "TOKEN = '1101178096:AAHBFH15tQyTzhFoaIOOQqmcaIS4zNjmaZc'\n",
    "channel = -1001328545903\n",
    "NOTICE = -1001159561160\n",
    "bot = telegram.Bot(token=TOKEN)\n",
    "hdr = {'Accept-Language': 'ko_KR,en;q=0.8', 'User-Agent': (\n",
    "    'Mozilla/5.0 (Linux; Android 6.0; Nexus 5 Build/MRA58N) AppleWebKit/537.36 (KHTML, like Gecko) Chrome/78.0.3904.70 Mobile Safari/537.36')}"
   ]
  },
  {
   "cell_type": "code",
   "execution_count": 32,
   "metadata": {},
   "outputs": [
    {
     "name": "stdout",
     "output_type": "stream",
     "text": [
      "<롤갤 개념글 업데이트>\n",
      "요즘 목소리좋은 남자들 돈버는법...ㄹㅇ;.jpg\n",
      "[해당 페이지로 이동](https://m.dcinside.com/board/baseball_new8?recommend=1&page=1)\n"
     ]
    },
    {
     "ename": "KeyboardInterrupt",
     "evalue": "",
     "output_type": "error",
     "traceback": [
      "\u001b[0;31m---------------------------------------------------------------------------\u001b[0m",
      "\u001b[0;31mKeyboardInterrupt\u001b[0m                         Traceback (most recent call last)",
      "\u001b[0;32m<ipython-input-32-89b5184cb18f>\u001b[0m in \u001b[0;36m<module>\u001b[0;34m\u001b[0m\n\u001b[1;32m     44\u001b[0m     \u001b[0mnowHour\u001b[0m \u001b[0;34m=\u001b[0m  \u001b[0mnow\u001b[0m\u001b[0;34m.\u001b[0m\u001b[0mhour\u001b[0m\u001b[0;34m\u001b[0m\u001b[0;34m\u001b[0m\u001b[0m\n\u001b[1;32m     45\u001b[0m     \u001b[0;32mwhile\u001b[0m \u001b[0;32mTrue\u001b[0m\u001b[0;34m:\u001b[0m\u001b[0;34m\u001b[0m\u001b[0;34m\u001b[0m\u001b[0m\n\u001b[0;32m---> 46\u001b[0;31m         \u001b[0mnow\u001b[0m \u001b[0;34m=\u001b[0m \u001b[0mdatetime\u001b[0m\u001b[0;34m.\u001b[0m\u001b[0mnow\u001b[0m\u001b[0;34m(\u001b[0m\u001b[0;34m)\u001b[0m\u001b[0;34m\u001b[0m\u001b[0;34m\u001b[0m\u001b[0m\n\u001b[0m\u001b[1;32m     47\u001b[0m         \u001b[0;32mif\u001b[0m \u001b[0mnowHour\u001b[0m \u001b[0;34m!=\u001b[0m \u001b[0mnow\u001b[0m\u001b[0;34m.\u001b[0m\u001b[0mhour\u001b[0m\u001b[0;34m:\u001b[0m\u001b[0;34m\u001b[0m\u001b[0;34m\u001b[0m\u001b[0m\n\u001b[1;32m     48\u001b[0m             \u001b[0mnowHour\u001b[0m \u001b[0;34m=\u001b[0m \u001b[0mnow\u001b[0m\u001b[0;34m.\u001b[0m\u001b[0mhour\u001b[0m\u001b[0;34m\u001b[0m\u001b[0;34m\u001b[0m\u001b[0m\n",
      "\u001b[0;31mKeyboardInterrupt\u001b[0m: "
     ]
    }
   ],
   "source": [
    "def sendDcinsideLol():\n",
    " \n",
    "    try:\n",
    "        with open(\"lol_titles.txt\", \"r\", encoding=\"utf-8\") as f:\n",
    "            latest_title_lol = f.readline().replace('\\n', '')\n",
    " \n",
    "        newPostTitles = []\n",
    "        for pageNum in range(1, 6):\n",
    "            req = requests.get('https://m.dcinside.com/board/baseball_new8?recommend=1&page='+str(pageNum), headers=hdr)\n",
    "            html = req.text\n",
    "            soup = BeautifulSoup(html, 'html.parser')\n",
    "            newPosts = soup.find_all(\"div\", {\"class\" : \"gall-detail-lnktb\"})\n",
    "            \n",
    "            for newPost in newPosts:\n",
    "                newPostTitles.append(newPost.find(\"span\", {\"class\" : \"detail-txt\"}).text)\n",
    "          \n",
    "        with open(\"lol_titles.txt\", \"w\", encoding=\"utf-8\") as f:\n",
    "            for newPostTitle in newPostTitles:\n",
    "                f.write(newPostTitle)\n",
    "                f.write('\\n')\n",
    " \n",
    "        message = '<롤갤 개념글 업데이트>\\n'\n",
    "        cnt = 0\n",
    "        for nowPostTitle in newPostTitles:\n",
    "            if nowPostTitle == latest_title_lol:\n",
    "                break\n",
    "            else:\n",
    "                message += f'%s\\n'%(nowPostTitle) \n",
    "                cnt += 1\n",
    "        if cnt > 0:\n",
    "            message += '[해당 페이지로 이동](https://m.dcinside.com/board/baseball_new8?recommend=1&page=1)'\n",
    "            print(message)\n",
    "            bot.sendMessage(channel, message, parse_mode = 'MARKDOWN')\n",
    " \n",
    "    except requests.exceptions.ConnectionError:\n",
    "        bot.sendMessage(DCALARMCHANNEL, \"requests.exceptions.ConnectionError Occured\")\n",
    "        return\n",
    "        \n",
    "if __name__ == '__main__':\n",
    " \n",
    "    bot.sendMessage(NOTICE, \"dc_alarm_new started\")\n",
    "    sendDcinsideLol()\n",
    "    now = datetime.now()\n",
    "    nowHour =  now.hour\n",
    "    while True:\n",
    "        now = datetime.now()\n",
    "        if nowHour != now.hour:\n",
    "            nowHour = now.hour\n",
    "            #if nowHour >= 17 and nowHour < 23:      #한국시간 02시 ~ 08시까지는 검색어 알림 받지않음\n",
    "            #    continue\n",
    "          \n",
    "            sendDcinsideLol()"
   ]
  },
  {
   "cell_type": "code",
   "execution_count": 34,
   "metadata": {},
   "outputs": [],
   "source": [
    "try:\n",
    "    with open(\"lol_titles.txt\", \"r\", encoding=\"utf-8\") as f:\n",
    "        latest_title_lol = f.readline().replace('\\n', '')\n",
    "\n",
    "    newPostTitles = []\n",
    "    for pageNum in range(1, 6):\n",
    "        req = requests.get('https://m.dcinside.com/board/baseball_new8?recommend=1&page='+str(pageNum), headers=hdr)\n",
    "        html = req.text\n",
    "        soup = BeautifulSoup(html, 'html.parser')\n",
    "        newPosts = soup.find_all(\"div\", {\"class\" : \"gall-detail-lnktb\"})\n",
    "\n",
    "        for newPost in newPosts:\n",
    "            newPostTitles.append(newPost.find(\"span\", {\"class\" : \"detail-txt\"}).text)\n",
    "\n",
    "    with open(\"lol_titles.txt\", \"w\", encoding=\"utf-8\") as f:\n",
    "        for newPostTitle in newPostTitles:\n",
    "            f.write(newPostTitle)\n",
    "            f.write('\\n')\n",
    "\n",
    "    message = '<롤갤 개념글 업데이트>\\n'\n",
    "    cnt = 0\n",
    "    for nowPostTitle in newPostTitles:\n",
    "        if nowPostTitle == latest_title_lol:\n",
    "            break\n",
    "        else:\n",
    "            message += f'%s\\n'%(nowPostTitle) \n",
    "            cnt += 1\n",
    "    if cnt > 0:\n",
    "        message += '[해당 페이지로 이동](https://m.dcinside.com/board/baseball_new8?recommend=1&page=1)'\n",
    "        print(message)\n",
    "        bot.sendMessage(channel, message, parse_mode = 'MARKDOWN')\n",
    " \n",
    "except requests.exceptions.ConnectionError:\n",
    "    bot.sendMessage(DCALARMCHANNEL, \"requests.exceptions.ConnectionError Occured\")"
   ]
  },
  {
   "cell_type": "code",
   "execution_count": 36,
   "metadata": {},
   "outputs": [
    {
     "data": {
      "text/plain": [
       "'<롤갤 개념글 업데이트>\\n'"
      ]
     },
     "execution_count": 36,
     "metadata": {},
     "output_type": "execute_result"
    }
   ],
   "source": [
    "message"
   ]
  }
 ],
 "metadata": {
  "kernelspec": {
   "display_name": "Python 3",
   "language": "python",
   "name": "python3"
  },
  "language_info": {
   "codemirror_mode": {
    "name": "ipython",
    "version": 3
   },
   "file_extension": ".py",
   "mimetype": "text/x-python",
   "name": "python",
   "nbconvert_exporter": "python",
   "pygments_lexer": "ipython3",
   "version": "3.6.10"
  }
 },
 "nbformat": 4,
 "nbformat_minor": 4
}
