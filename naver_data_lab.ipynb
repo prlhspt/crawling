{
 "cells": [
  {
   "cell_type": "code",
   "execution_count": 51,
   "metadata": {},
   "outputs": [],
   "source": [
    "import time\n",
    "from selenium.webdriver.common.keys import Keys\n",
    "from selenium import webdriver\n",
    "from selenium.webdriver.chrome.options import Options\n",
    "from selenium.webdriver.support.wait import WebDriverWait\n",
    "from bs4 import BeautifulSoup\n",
    "\n",
    "#options.add_argument('headless')\n",
    "\n",
    "options = Options()\n",
    "#options.headless = True\n",
    "driver = webdriver.Chrome(executable_path='/home/prlhspt/Documents/py-project/selenium/chromedriver', options=options)\n",
    "driver.get(\"http://facebook.com\")\n",
    "\n",
    "time.sleep(3)\n",
    "\n",
    "\n",
    "usr = '01051343076'\n",
    "pwd = 'hs4512'\n",
    "\n",
    "#tag_names = browser.find_element_by_css_selector(\".rank_top1000_list\").find_elements_by_tag_name(\"li\")\n",
    "\n",
    "elem = driver.find_element_by_id(\"email\")\n",
    "elem.send_keys(usr)\n",
    "elem = driver.find_element_by_id(\"pass\")\n",
    "elem.send_keys(pwd)\n",
    "elem.send_keys(Keys.RETURN)\n",
    "#for tag in tag_names:\n",
    "#    print(tag.text.split(\"\\n\"))\n"
   ]
  },
  {
   "cell_type": "code",
   "execution_count": 52,
   "metadata": {},
   "outputs": [],
   "source": [
    "html = driver.page_source\n",
    "soup = BeautifulSoup(html, 'html.parser')\n",
    "#driver.find_element_div role = feed"
   ]
  },
  {
   "cell_type": "code",
   "execution_count": 73,
   "metadata": {},
   "outputs": [],
   "source": [
    "temp = soup.select('span > a')\n"
   ]
  },
  {
   "cell_type": "code",
   "execution_count": 115,
   "metadata": {},
   "outputs": [],
   "source": [
    "list = []\n",
    "for temp2 in temp:\n",
    "    list.append(temp2.get_text())\n",
    "    "
   ]
  },
  {
   "cell_type": "code",
   "execution_count": 116,
   "metadata": {},
   "outputs": [
    {
     "data": {
      "text/plain": [
       "['\\u200e김연정\\u200e\\xa0님이 게시:\\xa0생활코딩',\n",
       " '\\u200e김연정\\u200e\\xa0님이 게시:\\xa0생활코딩',\n",
       " '\\u200e',\n",
       " '\\u200e',\n",
       " '\\xa0',\n",
       " '\\xa0',\n",
       " '=====================6월 13일 오후 6:32=======================',\n",
       " '=====================6월 13일 오후 6:32=======================',\n",
       " '=====================6월 13일 오후 6:32=======================',\n",
       " ' · ',\n",
       " '',\n",
       " '',\n",
       " '',\n",
       " '',\n",
       " '11',\n",
       " '11',\n",
       " '11',\n",
       " '11',\n",
       " '11',\n",
       " '11',\n",
       " '댓글 25개',\n",
       " '좋아요',\n",
       " '좋아요',\n",
       " '댓글 달기',\n",
       " '공유하기',\n",
       " '공유하기',\n",
       " '이전 댓글 보기',\n",
       " '17개 중 3개',\n",
       " '우리 딸래미같네 ㅋㅋㅋ 중3인데',\n",
       " '우리 딸래미같네 ㅋㅋㅋ 중3인데',\n",
       " '우리 딸래미같네 ㅋㅋㅋ 중3인데',\n",
       " '\\xa0·\\xa0',\n",
       " '좋아요',\n",
       " '좋아요',\n",
       " '\\xa0·\\xa0',\n",
       " '\\xa0·\\xa0',\n",
       " '14시간',\n",
       " '혹시 microsoft 자녀기능 해제나..뚫혹시 microsoft 자녀기능 해제나..뚫혹시 microsoft 자녀기능 해제나..뚫…더 보기',\n",
       " '혹시 microsoft 자녀기능 해제나..뚫혹시 microsoft 자녀기능 해제나..뚫혹시 microsoft 자녀기능 해제나..뚫…더 보기',\n",
       " '혹시 microsoft 자녀기능 해제나..뚫혹시 microsoft 자녀기능 해제나..뚫혹시 microsoft 자녀기능 해제나..뚫',\n",
       " '혹시 microsoft 자녀기능 해제나..뚫',\n",
       " '혹시 microsoft 자녀기능 해제나..뚫',\n",
       " '혹시 microsoft 자녀기능 해제나..뚫',\n",
       " '…',\n",
       " '\\xa0·\\xa0',\n",
       " '좋아요',\n",
       " '좋아요',\n",
       " '\\xa0·\\xa0',\n",
       " '\\xa0·\\xa0',\n",
       " '9시간',\n",
       " '몇년 지나면 알아서 풀려요',\n",
       " '몇년 지나면 알아서 풀려요',\n",
       " '몇년 지나면 알아서 풀려요',\n",
       " '4',\n",
       " '4',\n",
       " '',\n",
       " '',\n",
       " '4',\n",
       " '\\xa0·\\xa0',\n",
       " '좋아요',\n",
       " '좋아요',\n",
       " '\\xa0·\\xa0',\n",
       " '\\xa0·\\xa0',\n",
       " '6시간',\n",
       " '',\n",
       " '',\n",
       " '',\n",
       " '',\n",
       " '']"
      ]
     },
     "execution_count": 116,
     "metadata": {},
     "output_type": "execute_result"
    }
   ],
   "source": [
    "list"
   ]
  },
  {
   "cell_type": "code",
   "execution_count": 74,
   "metadata": {},
   "outputs": [],
   "source": [
    "b = soup.select('div > p')\n",
    "list = []\n",
    "for temp2 in b:\n",
    "    list.append(temp2.get_text())"
   ]
  },
  {
   "cell_type": "code",
   "execution_count": 75,
   "metadata": {},
   "outputs": [
    {
     "data": {
      "text/plain": [
       "['혹시 microsoft 자녀기능 해제나..뚫혹시 microsoft 자녀기능 해제나..뚫을수있는 방법 아시는분....있나요..ㅠ',\n",
       " '🔥매주 일요일 수강료 인상 + 선착순 모집 중!🔥 심지어 공부한만큼 매주 환급! 진짜 아무것도 모르는 당신을 위한 강의!',\n",
       " ' ✔비전공자, 코알못, 수포자 모두 수강 가능! ✔코딩 + 알고리즘 + 유명 IT 기업 코딩테스트 문제풀이까지... ✔학습스케줄표에 따라 70일 동안 공부하면 누구나 완강 가능! ✔모르는 것이 있으면 LG출신 개발자에게 1:1로 질문 & 답변 ✔온라인 강의는 수강 기간이 끝나도 평생소장!',\n",
       " ' ⭐미션 완료 시 매주 2만원 환급! ⭐종합 평가 완료 시 나머지 금액 전액 환급! ⭐하루 이틀 공부 못해도 그주애 해당하는 환급 기준만 충족하면 환급! ➕성적우수자에게는 기업 실무자와의 모의 면접+피드백 기회 제공!',\n",
       " ' ▶개강일 2020년 7월 6일',\n",
       " ' ▶환급 미션(완주) 기간 2020년 7월 6일부터 70일간']"
      ]
     },
     "execution_count": 75,
     "metadata": {},
     "output_type": "execute_result"
    }
   ],
   "source": [
    "list"
   ]
  },
  {
   "cell_type": "code",
   "execution_count": 107,
   "metadata": {},
   "outputs": [],
   "source": [
    "\n",
    "emp = soup.find('div', class_='_5pcr userContentWrapper')\n",
    "temp = emp.find_all('span')"
   ]
  },
  {
   "cell_type": "code",
   "execution_count": 113,
   "metadata": {},
   "outputs": [
    {
     "data": {
      "text/plain": [
       "<span data-hover=\"tooltip\"><a aria-label=\"스티커 올리기\" class=\"_1t9_ _2r-o\" href=\"#\" role=\"button\"><div class=\"_2r-r\"></div></a></span>"
      ]
     },
     "execution_count": 113,
     "metadata": {},
     "output_type": "execute_result"
    }
   ],
   "source": []
  },
  {
   "cell_type": "code",
   "execution_count": 120,
   "metadata": {},
   "outputs": [
    {
     "data": {
      "text/plain": [
       "['\\u200e김연정\\u200e\\xa0님이 게시:\\xa0생활코딩',\n",
       " '\\u200e김연정\\u200e\\xa0님이 게시:\\xa0생활코딩',\n",
       " '\\u200e',\n",
       " '\\u200e',\n",
       " '\\xa0',\n",
       " '\\xa0',\n",
       " '=====================6월 13일 오후 6:32=======================',\n",
       " '=====================6월 13일 오후 6:32=======================',\n",
       " '=====================6월 13일 오후 6:32=======================',\n",
       " ' · ',\n",
       " '',\n",
       " '',\n",
       " '',\n",
       " '',\n",
       " '11',\n",
       " '11',\n",
       " '11',\n",
       " '11',\n",
       " '11',\n",
       " '11',\n",
       " '댓글 25개',\n",
       " '좋아요',\n",
       " '좋아요',\n",
       " '댓글 달기',\n",
       " '공유하기',\n",
       " '공유하기',\n",
       " '이전 댓글 보기',\n",
       " '17개 중 3개',\n",
       " '우리 딸래미같네 ㅋㅋㅋ 중3인데',\n",
       " '우리 딸래미같네 ㅋㅋㅋ 중3인데',\n",
       " '우리 딸래미같네 ㅋㅋㅋ 중3인데',\n",
       " '\\xa0·\\xa0',\n",
       " '좋아요',\n",
       " '좋아요',\n",
       " '\\xa0·\\xa0',\n",
       " '\\xa0·\\xa0',\n",
       " '14시간',\n",
       " '혹시 microsoft 자녀기능 해제나..뚫혹시 microsoft 자녀기능 해제나..뚫혹시 microsoft 자녀기능 해제나..뚫…더 보기',\n",
       " '혹시 microsoft 자녀기능 해제나..뚫혹시 microsoft 자녀기능 해제나..뚫혹시 microsoft 자녀기능 해제나..뚫…더 보기',\n",
       " '혹시 microsoft 자녀기능 해제나..뚫혹시 microsoft 자녀기능 해제나..뚫혹시 microsoft 자녀기능 해제나..뚫',\n",
       " '혹시 microsoft 자녀기능 해제나..뚫',\n",
       " '혹시 microsoft 자녀기능 해제나..뚫',\n",
       " '혹시 microsoft 자녀기능 해제나..뚫',\n",
       " '…',\n",
       " '\\xa0·\\xa0',\n",
       " '좋아요',\n",
       " '좋아요',\n",
       " '\\xa0·\\xa0',\n",
       " '\\xa0·\\xa0',\n",
       " '9시간',\n",
       " '몇년 지나면 알아서 풀려요',\n",
       " '몇년 지나면 알아서 풀려요',\n",
       " '몇년 지나면 알아서 풀려요',\n",
       " '4',\n",
       " '4',\n",
       " '',\n",
       " '',\n",
       " '4',\n",
       " '\\xa0·\\xa0',\n",
       " '좋아요',\n",
       " '좋아요',\n",
       " '\\xa0·\\xa0',\n",
       " '\\xa0·\\xa0',\n",
       " '6시간',\n",
       " '',\n",
       " '',\n",
       " '',\n",
       " '',\n",
       " '']"
      ]
     },
     "execution_count": 120,
     "metadata": {},
     "output_type": "execute_result"
    }
   ],
   "source": [
    "list = []\n",
    "cnt = 0\n",
    "\n",
    "for tmp in temp:    \n",
    "    list.append(tmp.get_text())\n",
    "\n",
    "list\n",
    "for i in range list(0, len(list)):\n",
    "    if list[i] \n",
    "\n",
    "    "
   ]
  },
  {
   "cell_type": "code",
   "execution_count": 122,
   "metadata": {},
   "outputs": [
    {
     "data": {
      "text/plain": [
       "'\\u200e김연정\\u200e\\xa0님이 게시:\\xa0생활코딩'"
      ]
     },
     "execution_count": 122,
     "metadata": {},
     "output_type": "execute_result"
    }
   ],
   "source": [
    "list[0]"
   ]
  },
  {
   "cell_type": "code",
   "execution_count": 99,
   "metadata": {},
   "outputs": [
    {
     "data": {
      "text/plain": [
       "['\\u200e김연정\\u200e\\xa0님이 게시:\\xa0생활코딩=====================6월 13일 오후 6:32======================= · 혹시 microsoft 자녀기능 해제나..뚫혹시 microsoft 자녀기능 해제나..뚫을수있는 방법 아시는분....있나요..ㅠ1111댓글 25개좋아요댓글 달기공유하기댓글이전 댓글 보기17개 중 3개서태호 우리 딸래미같네 ㅋㅋㅋ 중3인데숨기기 또는 신고\\xa0·\\xa0좋아요\\xa0·\\xa0답글 달기\\xa0·\\xa014시간곽현민 혹시 microsoft 자녀기능 해제나..뚫혹시 microsoft 자녀기능 해제나..뚫혹시 microsoft 자녀기능 해제나..뚫…더 보기숨기기 또는 신고\\xa0·\\xa0좋아요\\xa0·\\xa0답글 달기\\xa0·\\xa09시간Daewon Han 몇년 지나면 알아서 풀려요4숨기기 또는 신고\\xa0·\\xa0좋아요\\xa0·\\xa0답글 달기\\xa0·\\xa06시간댓글을 입력하세요...']"
      ]
     },
     "execution_count": 99,
     "metadata": {},
     "output_type": "execute_result"
    }
   ],
   "source": [
    "list = []\n",
    "for temp2 in emp:\n",
    "    list.append(temp2.get_text())\n",
    "list"
   ]
  },
  {
   "cell_type": "code",
   "execution_count": 20,
   "metadata": {},
   "outputs": [],
   "source": [
    "import selenium\n",
    "\n",
    "\n",
    "browser = webdriver.Chrome('/home/prlhspt/Documents/py-project/selenium/chromedriver')\n",
    "\n"
   ]
  },
  {
   "cell_type": "code",
   "execution_count": 22,
   "metadata": {},
   "outputs": [
    {
     "name": "stderr",
     "output_type": "stream",
     "text": [
      "/home/prlhspt/anaconda3/envs/venv/lib/python3.6/site-packages/ipykernel_launcher.py:11: DeprecationWarning: use options instead of chrome_options\n",
      "  # This is added back by InteractiveShellApp.init_path()\n"
     ]
    },
    {
     "name": "stdout",
     "output_type": "stream",
     "text": [
      "User-Agent:  Mozilla/5.0 (Macintosh; Intel Mac OS X 10_12_6) AppleWebKit/537.36 (KHTML, like Gecko) Chrome/61.0.3163.100 Safari/537.36\n",
      "Plugin length:  0\n",
      "languages:  en-US\n",
      "WebGL Vendor:  Google Inc.\n",
      "WebGL Renderer:  Google SwiftShader\n"
     ]
    }
   ],
   "source": [
    "from selenium import webdriver\n",
    "\n",
    "TEST_URL = 'https://intoli.com/blog/making-chrome-headless-undetectable/chrome-headless-test.html'\n",
    "\n",
    "options = webdriver.ChromeOptions()\n",
    "options.add_argument('headless')\n",
    "options.add_argument('window-size=1920x1080')\n",
    "options.add_argument(\"disable-gpu\")\n",
    "options.add_argument(\"user-agent=Mozilla/5.0 (Macintosh; Intel Mac OS X 10_12_6) AppleWebKit/537.36 (KHTML, like Gecko) Chrome/61.0.3163.100 Safari/537.36\")\n",
    "options.add_argument(\"lang=ko_KR\") # 한국어!\n"
   ]
  },
  {
   "cell_type": "code",
   "execution_count": null,
   "metadata": {},
   "outputs": [],
   "source": []
  }
 ],
 "metadata": {
  "kernelspec": {
   "display_name": "Python 3",
   "language": "python",
   "name": "python3"
  },
  "language_info": {
   "codemirror_mode": {
    "name": "ipython",
    "version": 3
   },
   "file_extension": ".py",
   "mimetype": "text/x-python",
   "name": "python",
   "nbconvert_exporter": "python",
   "pygments_lexer": "ipython3",
   "version": "3.6.10"
  }
 },
 "nbformat": 4,
 "nbformat_minor": 4
}
