{
 "cells": [
  {
   "cell_type": "code",
   "execution_count": 6,
   "metadata": {},
   "outputs": [],
   "source": [
    "import telegram   #텔레그램 모듈을 가져옵니다.\n",
    "\n",
    "my_token = '1101178096:AAHBFH15tQyTzhFoaIOOQqmcaIS4zNjmaZc'   #토큰을 변수에 저장합니다.\n",
    "\n",
    "bot = telegram.Bot(token = my_token)   #bot을 선언합니다.\n",
    "\n",
    "updates = bot.getUpdates()  #업데이트 내역을 받아옵니다.\n",
    "\n",
    "for u in updates :   # 내역중 메세지를 출력합니다.\n",
    "\n",
    "    print(u.message)"
   ]
  },
  {
   "cell_type": "code",
   "execution_count": 10,
   "metadata": {},
   "outputs": [
    {
     "data": {
      "text/plain": [
       "[]"
      ]
     },
     "execution_count": 10,
     "metadata": {},
     "output_type": "execute_result"
    }
   ],
   "source": [
    "updates"
   ]
  }
 ],
 "metadata": {
  "kernelspec": {
   "display_name": "Python 3",
   "language": "python",
   "name": "python3"
  },
  "language_info": {
   "codemirror_mode": {
    "name": "ipython",
    "version": 3
   },
   "file_extension": ".py",
   "mimetype": "text/x-python",
   "name": "python",
   "nbconvert_exporter": "python",
   "pygments_lexer": "ipython3",
   "version": "3.6.10"
  }
 },
 "nbformat": 4,
 "nbformat_minor": 4
}
