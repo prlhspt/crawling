{
 "cells": [
  {
   "cell_type": "code",
   "execution_count": 132,
   "metadata": {},
   "outputs": [
    {
     "name": "stdout",
     "output_type": "stream",
     "text": [
      "==========================\n",
      "DRX Deft님의솔로랭크 정보입니다.\n",
      "==========================\n",
      "티어 : Challenger\n",
      "LP : 1,318 LP\n",
      "승/패 : 358승/303패\n",
      "승률 : 54%\n"
     ]
    }
   ],
   "source": [
    "import requests\n",
    "from bs4 import BeautifulSoup\n",
    "\n",
    "Name = 'drx deft'\n",
    "\n",
    "hdr = {'Accept-Language': 'ko_KR,en;q=0.8', 'User-Agent': (\n",
    "    'Mozilla/5.0 (Linux; Android 6.0; Nexus 5 Build/MRA58N) AppleWebKit/537.36 (KHTML, like Gecko) Chrome/78.0.3904.70 Mobile Safari/537.36')}\n",
    "\n",
    "def parseOPGG(Name):\n",
    "    Container = {}\n",
    "    Tier = []\n",
    "    LP = []\n",
    "    Wins = []\n",
    "    Losses = []\n",
    "    Ratio = []\n",
    "    SummonerName = \"\"\n",
    "    ranking = \"\"\n",
    "    \n",
    "    url = 'https://www.op.gg/summoner/userName=' + Name\n",
    "    req = requests.get(url, headers=hdr)\n",
    "    html = req.text\n",
    "    soup = BeautifulSoup(html, 'html.parser')\n",
    "\n",
    "    for i in soup.select('div[class=SummonerName]'):\n",
    "        SummonerName = i.text\n",
    "    Container['SummonerName'] =  SummonerName\n",
    "\n",
    "    for i in soup.select('span[class=ranking]'):\n",
    "        Ranking = i.text\n",
    "    Container['Ranking'] = Ranking\n",
    "\n",
    "    for i in soup.select('div[class=Tier]'):\n",
    "        Tier.append(i.text.strip())\n",
    "    Container['Tier'] = Tier\n",
    "\n",
    "    for i in soup.select('div[class=LP]'):\n",
    "        LP.append(i.text)\n",
    "    Container['LP'] = LP\n",
    "\n",
    "    for i in soup.select('div[class=WinLose] > span[class=Wins]'):\n",
    "        Wins.append(i.text)\n",
    "    Container['Wins'] = Wins\n",
    "\n",
    "    for i in soup.select('div[class=WinLose] > span[class=Losses]'):\n",
    "        Losses.append(i.text)\n",
    "    Container['Losses'] = Losses\n",
    "\n",
    "    for i in soup.select('span[class=Ratio]'):\n",
    "        Ratio.append(i.text)\n",
    "    Container['Ratio'] = Ratio\n",
    "    \n",
    "    return Container\n",
    "\n",
    "def printSummonerInfo(Container):\n",
    "    rankCase = ['솔로', '자유']\n",
    "    for i in range(len(Container['Tier'])):\n",
    "        if Container['SummonerName'] != '':\n",
    "            print(\"==========================\")\n",
    "            if(len(Container['Tier'])):\n",
    "                print(Container['SummonerName'] + \"님의\" + rankCase[i] + \"랭크 정보입니다.\")\n",
    "                print(\"==========================\")\n",
    "                print(\"티어 : \" + Container['Tier'][i])\n",
    "                print(\"LP : \" + Container['LP'][i])\n",
    "                print(\"승/패 : \" + Container['Wins'][i] + \"/\" + Container['Losses'][i])\n",
    "                print(\"승률 : \" + Container['Ratio'][i])\n",
    "            else:\n",
    "                print(Container['SummonerName'] + \"님은 Unranked 입니다.\")\n",
    "                print(\"==========================\")\n",
    "                \n",
    "if __name__ == \"__main__\":\n",
    "    printSummonerInfo(parseOPGG(\"DRX Deft\"))\n",
    "    "
   ]
  },
  {
   "cell_type": "markdown",
   "metadata": {},
   "source": [
    "# -----"
   ]
  },
  {
   "cell_type": "code",
   "execution_count": 214,
   "metadata": {},
   "outputs": [
    {
     "data": {
      "text/plain": [
       "{'Name': 'DRX Deft',\n",
       " 'champion': 'Varus',\n",
       " 'MatchInfo': '솔랭· 2020-06-10 03:52:45'}"
      ]
     },
     "execution_count": 214,
     "metadata": {},
     "output_type": "execute_result"
    }
   ],
   "source": [
    "Container = {}\n",
    "Container['Name'] = soup.find(\"div\", {\"class\" : \"SummonerName\"}).text\n",
    "champ = soup.find(\"div\", {\"class\" : \"ChampionImage\"})\n",
    "champ = champ.find(\"a\").attrs['href']\n",
    "Container[\"champion\"] = champ.replace(\"/champion/\", '').replace(\"/statistics\", '').capitalize()\n",
    "\n",
    "i = soup.select('h2.Text')[0]\n",
    "Container['MatchInfo'] = i.text.replace('\\n', '').replace('\\t', '')\n",
    "Container\n",
    "\n"
   ]
  }
 ],
 "metadata": {
  "kernelspec": {
   "display_name": "Python 3",
   "language": "python",
   "name": "python3"
  },
  "language_info": {
   "codemirror_mode": {
    "name": "ipython",
    "version": 3
   },
   "file_extension": ".py",
   "mimetype": "text/x-python",
   "name": "python",
   "nbconvert_exporter": "python",
   "pygments_lexer": "ipython3",
   "version": "3.7.7"
  }
 },
 "nbformat": 4,
 "nbformat_minor": 4
}
